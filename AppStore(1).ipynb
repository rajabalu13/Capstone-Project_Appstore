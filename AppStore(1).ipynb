{
  "nbformat": 4,
  "nbformat_minor": 0,
  "metadata": {
    "colab": {
      "name": "AppStore.ipynb",
      "provenance": [],
      "collapsed_sections": [
        "p2JzBrUba9yZ",
        "_bz11Q-kiea0"
      ]
    },
    "kernelspec": {
      "name": "python3",
      "display_name": "Python 3"
    }
  },
  "cells": [
    {
      "cell_type": "markdown",
      "metadata": {
        "id": "v1qHbty4alj2"
      },
      "source": [
        "# Import libraries"
      ]
    },
    {
      "cell_type": "code",
      "metadata": {
        "id": "zOCvhltwZ3I3"
      },
      "source": [
        "import os\n",
        "import pandas as pd\n",
        "import numpy as np\n",
        "%matplotlib inline\n",
        "import matplotlib.pyplot as plt\n",
        "import seaborn as sns\n",
        "import plotly.express as px\n",
        "import random as rn\n",
        "import tensorflow"
      ],
      "execution_count": null,
      "outputs": []
    },
    {
      "cell_type": "markdown",
      "metadata": {
        "id": "1SeIfSifPiBO"
      },
      "source": [
        "# Setting Seed"
      ]
    },
    {
      "cell_type": "code",
      "metadata": {
        "id": "ALUNGI9wPkNJ"
      },
      "source": [
        "SEED = 123457\n",
        "os.environ['PYTHONHASHSEED']=str(SEED)\n",
        "np.random.seed(SEED)\n",
        "tensorflow.random.set_seed(SEED)\n",
        "rn.seed(SEED)"
      ],
      "execution_count": null,
      "outputs": []
    },
    {
      "cell_type": "markdown",
      "metadata": {
        "id": "n3_5_XBOarqX"
      },
      "source": [
        "# Connecting with Drive"
      ]
    },
    {
      "cell_type": "code",
      "metadata": {
        "id": "4elUaEOMaj3L",
        "colab": {
          "base_uri": "https://localhost:8080/"
        },
        "outputId": "7960754d-1d4c-4d98-e176-9f59beaa4845"
      },
      "source": [
        "from google.colab import drive\n",
        "drive.mount('/content/drive')"
      ],
      "execution_count": null,
      "outputs": [
        {
          "output_type": "stream",
          "text": [
            "Mounted at /content/drive\n"
          ],
          "name": "stdout"
        }
      ]
    },
    {
      "cell_type": "markdown",
      "metadata": {
        "id": "p2JzBrUba9yZ"
      },
      "source": [
        "# Fetching Data"
      ]
    },
    {
      "cell_type": "code",
      "metadata": {
        "id": "He6TExw4bAdN",
        "colab": {
          "base_uri": "https://localhost:8080/",
          "height": 632
        },
        "outputId": "a28e4bc0-7efa-48b1-a347-f6259b058277"
      },
      "source": [
        "df = pd.read_csv('/content/drive/My Drive/Colab Notebooks/appstore_games.csv')\n",
        "df.head()"
      ],
      "execution_count": null,
      "outputs": [
        {
          "output_type": "execute_result",
          "data": {
            "text/html": [
              "<div>\n",
              "<style scoped>\n",
              "    .dataframe tbody tr th:only-of-type {\n",
              "        vertical-align: middle;\n",
              "    }\n",
              "\n",
              "    .dataframe tbody tr th {\n",
              "        vertical-align: top;\n",
              "    }\n",
              "\n",
              "    .dataframe thead th {\n",
              "        text-align: right;\n",
              "    }\n",
              "</style>\n",
              "<table border=\"1\" class=\"dataframe\">\n",
              "  <thead>\n",
              "    <tr style=\"text-align: right;\">\n",
              "      <th></th>\n",
              "      <th>URL</th>\n",
              "      <th>ID</th>\n",
              "      <th>Name</th>\n",
              "      <th>Subtitle</th>\n",
              "      <th>Icon URL</th>\n",
              "      <th>Average User Rating</th>\n",
              "      <th>User Rating Count</th>\n",
              "      <th>Price</th>\n",
              "      <th>In-app Purchases</th>\n",
              "      <th>Description</th>\n",
              "      <th>Developer</th>\n",
              "      <th>Age Rating</th>\n",
              "      <th>Languages</th>\n",
              "      <th>Size</th>\n",
              "      <th>Primary Genre</th>\n",
              "      <th>Genres</th>\n",
              "      <th>Original Release Date</th>\n",
              "      <th>Current Version Release Date</th>\n",
              "    </tr>\n",
              "  </thead>\n",
              "  <tbody>\n",
              "    <tr>\n",
              "      <th>0</th>\n",
              "      <td>https://apps.apple.com/us/app/sudoku/id284921427</td>\n",
              "      <td>284921427</td>\n",
              "      <td>Sudoku</td>\n",
              "      <td>NaN</td>\n",
              "      <td>https://is2-ssl.mzstatic.com/image/thumb/Purpl...</td>\n",
              "      <td>4.0</td>\n",
              "      <td>3553.0</td>\n",
              "      <td>2.99</td>\n",
              "      <td>NaN</td>\n",
              "      <td>Join over 21,000,000 of our fans and download ...</td>\n",
              "      <td>Mighty Mighty Good Games</td>\n",
              "      <td>4+</td>\n",
              "      <td>DA, NL, EN, FI, FR, DE, IT, JA, KO, NB, PL, PT...</td>\n",
              "      <td>15853568.0</td>\n",
              "      <td>Games</td>\n",
              "      <td>Games, Strategy, Puzzle</td>\n",
              "      <td>11/7/2008</td>\n",
              "      <td>30/5/2017</td>\n",
              "    </tr>\n",
              "    <tr>\n",
              "      <th>1</th>\n",
              "      <td>https://apps.apple.com/us/app/reversi/id284926400</td>\n",
              "      <td>284926400</td>\n",
              "      <td>Reversi</td>\n",
              "      <td>NaN</td>\n",
              "      <td>https://is4-ssl.mzstatic.com/image/thumb/Purpl...</td>\n",
              "      <td>3.5</td>\n",
              "      <td>284.0</td>\n",
              "      <td>1.99</td>\n",
              "      <td>NaN</td>\n",
              "      <td>The classic game of Reversi, also known as Oth...</td>\n",
              "      <td>Kiss The Machine</td>\n",
              "      <td>4+</td>\n",
              "      <td>EN</td>\n",
              "      <td>12328960.0</td>\n",
              "      <td>Games</td>\n",
              "      <td>Games, Strategy, Board</td>\n",
              "      <td>11/7/2008</td>\n",
              "      <td>17/5/2018</td>\n",
              "    </tr>\n",
              "    <tr>\n",
              "      <th>2</th>\n",
              "      <td>https://apps.apple.com/us/app/morocco/id284946595</td>\n",
              "      <td>284946595</td>\n",
              "      <td>Morocco</td>\n",
              "      <td>NaN</td>\n",
              "      <td>https://is5-ssl.mzstatic.com/image/thumb/Purpl...</td>\n",
              "      <td>3.0</td>\n",
              "      <td>8376.0</td>\n",
              "      <td>0.00</td>\n",
              "      <td>NaN</td>\n",
              "      <td>Play the classic strategy game Othello (also k...</td>\n",
              "      <td>Bayou Games</td>\n",
              "      <td>4+</td>\n",
              "      <td>EN</td>\n",
              "      <td>674816.0</td>\n",
              "      <td>Games</td>\n",
              "      <td>Games, Board, Strategy</td>\n",
              "      <td>11/7/2008</td>\n",
              "      <td>5/9/2017</td>\n",
              "    </tr>\n",
              "    <tr>\n",
              "      <th>3</th>\n",
              "      <td>https://apps.apple.com/us/app/sudoku-free/id28...</td>\n",
              "      <td>285755462</td>\n",
              "      <td>Sudoku (Free)</td>\n",
              "      <td>NaN</td>\n",
              "      <td>https://is3-ssl.mzstatic.com/image/thumb/Purpl...</td>\n",
              "      <td>3.5</td>\n",
              "      <td>190394.0</td>\n",
              "      <td>0.00</td>\n",
              "      <td>NaN</td>\n",
              "      <td>Top 100 free app for over a year.\\nRated \"Best...</td>\n",
              "      <td>Mighty Mighty Good Games</td>\n",
              "      <td>4+</td>\n",
              "      <td>DA, NL, EN, FI, FR, DE, IT, JA, KO, NB, PL, PT...</td>\n",
              "      <td>21552128.0</td>\n",
              "      <td>Games</td>\n",
              "      <td>Games, Strategy, Puzzle</td>\n",
              "      <td>23/7/2008</td>\n",
              "      <td>30/5/2017</td>\n",
              "    </tr>\n",
              "    <tr>\n",
              "      <th>4</th>\n",
              "      <td>https://apps.apple.com/us/app/senet-deluxe/id2...</td>\n",
              "      <td>285831220</td>\n",
              "      <td>Senet Deluxe</td>\n",
              "      <td>NaN</td>\n",
              "      <td>https://is1-ssl.mzstatic.com/image/thumb/Purpl...</td>\n",
              "      <td>3.5</td>\n",
              "      <td>28.0</td>\n",
              "      <td>2.99</td>\n",
              "      <td>NaN</td>\n",
              "      <td>\"Senet Deluxe - The Ancient Game of Life and A...</td>\n",
              "      <td>RoGame Software</td>\n",
              "      <td>4+</td>\n",
              "      <td>DA, NL, EN, FR, DE, EL, IT, JA, KO, NO, PT, RU...</td>\n",
              "      <td>34689024.0</td>\n",
              "      <td>Games</td>\n",
              "      <td>Games, Strategy, Board, Education</td>\n",
              "      <td>18/7/2008</td>\n",
              "      <td>22/7/2018</td>\n",
              "    </tr>\n",
              "  </tbody>\n",
              "</table>\n",
              "</div>"
            ],
            "text/plain": [
              "                                                 URL  ...  Current Version Release Date\n",
              "0   https://apps.apple.com/us/app/sudoku/id284921427  ...                     30/5/2017\n",
              "1  https://apps.apple.com/us/app/reversi/id284926400  ...                     17/5/2018\n",
              "2  https://apps.apple.com/us/app/morocco/id284946595  ...                      5/9/2017\n",
              "3  https://apps.apple.com/us/app/sudoku-free/id28...  ...                     30/5/2017\n",
              "4  https://apps.apple.com/us/app/senet-deluxe/id2...  ...                     22/7/2018\n",
              "\n",
              "[5 rows x 18 columns]"
            ]
          },
          "metadata": {
            "tags": []
          },
          "execution_count": 3
        }
      ]
    },
    {
      "cell_type": "code",
      "metadata": {
        "id": "VzapsTjAZKL_"
      },
      "source": [
        "# Converting Date columns from Object type to datetime type\n",
        "df['Original Release Date'] =  pd.to_datetime(df['Original Release Date'])\n",
        "df['Current Version Release Date'] =  pd.to_datetime(df['Original Release Date'])"
      ],
      "execution_count": null,
      "outputs": []
    },
    {
      "cell_type": "markdown",
      "metadata": {
        "id": "_bz11Q-kiea0"
      },
      "source": [
        "# Univariate and Bivariate Analysis"
      ]
    },
    {
      "cell_type": "code",
      "metadata": {
        "id": "DEkBSg3HPEsY",
        "colab": {
          "base_uri": "https://localhost:8080/"
        },
        "outputId": "0e13dcea-c774-4471-c1b5-78455cf8b83c"
      },
      "source": [
        "df.info()"
      ],
      "execution_count": null,
      "outputs": [
        {
          "output_type": "stream",
          "text": [
            "<class 'pandas.core.frame.DataFrame'>\n",
            "RangeIndex: 17007 entries, 0 to 17006\n",
            "Data columns (total 18 columns):\n",
            " #   Column                        Non-Null Count  Dtype         \n",
            "---  ------                        --------------  -----         \n",
            " 0   URL                           17007 non-null  object        \n",
            " 1   ID                            17007 non-null  int64         \n",
            " 2   Name                          17007 non-null  object        \n",
            " 3   Subtitle                      5261 non-null   object        \n",
            " 4   Icon URL                      17007 non-null  object        \n",
            " 5   Average User Rating           7561 non-null   float64       \n",
            " 6   User Rating Count             7561 non-null   float64       \n",
            " 7   Price                         16983 non-null  float64       \n",
            " 8   In-app Purchases              7683 non-null   object        \n",
            " 9   Description                   17007 non-null  object        \n",
            " 10  Developer                     17007 non-null  object        \n",
            " 11  Age Rating                    17007 non-null  object        \n",
            " 12  Languages                     16947 non-null  object        \n",
            " 13  Size                          17006 non-null  float64       \n",
            " 14  Primary Genre                 17007 non-null  object        \n",
            " 15  Genres                        17007 non-null  object        \n",
            " 16  Original Release Date         17007 non-null  datetime64[ns]\n",
            " 17  Current Version Release Date  17007 non-null  datetime64[ns]\n",
            "dtypes: datetime64[ns](2), float64(4), int64(1), object(11)\n",
            "memory usage: 2.3+ MB\n"
          ],
          "name": "stdout"
        }
      ]
    },
    {
      "cell_type": "code",
      "metadata": {
        "colab": {
          "base_uri": "https://localhost:8080/",
          "height": 297
        },
        "id": "e7nzY8X39qQr",
        "outputId": "14f45ae8-bac0-4574-91dd-e2d5d67fdd20"
      },
      "source": [
        "df.describe()"
      ],
      "execution_count": null,
      "outputs": [
        {
          "output_type": "execute_result",
          "data": {
            "text/html": [
              "<div>\n",
              "<style scoped>\n",
              "    .dataframe tbody tr th:only-of-type {\n",
              "        vertical-align: middle;\n",
              "    }\n",
              "\n",
              "    .dataframe tbody tr th {\n",
              "        vertical-align: top;\n",
              "    }\n",
              "\n",
              "    .dataframe thead th {\n",
              "        text-align: right;\n",
              "    }\n",
              "</style>\n",
              "<table border=\"1\" class=\"dataframe\">\n",
              "  <thead>\n",
              "    <tr style=\"text-align: right;\">\n",
              "      <th></th>\n",
              "      <th>ID</th>\n",
              "      <th>Average User Rating</th>\n",
              "      <th>User Rating Count</th>\n",
              "      <th>Price</th>\n",
              "      <th>Size</th>\n",
              "    </tr>\n",
              "  </thead>\n",
              "  <tbody>\n",
              "    <tr>\n",
              "      <th>count</th>\n",
              "      <td>1.700700e+04</td>\n",
              "      <td>7561.000000</td>\n",
              "      <td>7.561000e+03</td>\n",
              "      <td>16983.000000</td>\n",
              "      <td>1.700600e+04</td>\n",
              "    </tr>\n",
              "    <tr>\n",
              "      <th>mean</th>\n",
              "      <td>1.059614e+09</td>\n",
              "      <td>4.060905</td>\n",
              "      <td>3.306531e+03</td>\n",
              "      <td>0.813419</td>\n",
              "      <td>1.157064e+08</td>\n",
              "    </tr>\n",
              "    <tr>\n",
              "      <th>std</th>\n",
              "      <td>2.999676e+08</td>\n",
              "      <td>0.751428</td>\n",
              "      <td>4.232256e+04</td>\n",
              "      <td>7.835732</td>\n",
              "      <td>2.036477e+08</td>\n",
              "    </tr>\n",
              "    <tr>\n",
              "      <th>min</th>\n",
              "      <td>2.849214e+08</td>\n",
              "      <td>1.000000</td>\n",
              "      <td>5.000000e+00</td>\n",
              "      <td>0.000000</td>\n",
              "      <td>5.132800e+04</td>\n",
              "    </tr>\n",
              "    <tr>\n",
              "      <th>25%</th>\n",
              "      <td>8.996543e+08</td>\n",
              "      <td>3.500000</td>\n",
              "      <td>1.200000e+01</td>\n",
              "      <td>0.000000</td>\n",
              "      <td>2.295014e+07</td>\n",
              "    </tr>\n",
              "    <tr>\n",
              "      <th>50%</th>\n",
              "      <td>1.112286e+09</td>\n",
              "      <td>4.500000</td>\n",
              "      <td>4.600000e+01</td>\n",
              "      <td>0.000000</td>\n",
              "      <td>5.676895e+07</td>\n",
              "    </tr>\n",
              "    <tr>\n",
              "      <th>75%</th>\n",
              "      <td>1.286983e+09</td>\n",
              "      <td>4.500000</td>\n",
              "      <td>3.090000e+02</td>\n",
              "      <td>0.000000</td>\n",
              "      <td>1.330271e+08</td>\n",
              "    </tr>\n",
              "    <tr>\n",
              "      <th>max</th>\n",
              "      <td>1.475077e+09</td>\n",
              "      <td>5.000000</td>\n",
              "      <td>3.032734e+06</td>\n",
              "      <td>179.990000</td>\n",
              "      <td>4.005591e+09</td>\n",
              "    </tr>\n",
              "  </tbody>\n",
              "</table>\n",
              "</div>"
            ],
            "text/plain": [
              "                 ID  Average User Rating  ...         Price          Size\n",
              "count  1.700700e+04          7561.000000  ...  16983.000000  1.700600e+04\n",
              "mean   1.059614e+09             4.060905  ...      0.813419  1.157064e+08\n",
              "std    2.999676e+08             0.751428  ...      7.835732  2.036477e+08\n",
              "min    2.849214e+08             1.000000  ...      0.000000  5.132800e+04\n",
              "25%    8.996543e+08             3.500000  ...      0.000000  2.295014e+07\n",
              "50%    1.112286e+09             4.500000  ...      0.000000  5.676895e+07\n",
              "75%    1.286983e+09             4.500000  ...      0.000000  1.330271e+08\n",
              "max    1.475077e+09             5.000000  ...    179.990000  4.005591e+09\n",
              "\n",
              "[8 rows x 5 columns]"
            ]
          },
          "metadata": {
            "tags": []
          },
          "execution_count": 6
        }
      ]
    },
    {
      "cell_type": "code",
      "metadata": {
        "id": "Ct-yp2IQiMuD",
        "colab": {
          "base_uri": "https://localhost:8080/",
          "height": 634
        },
        "outputId": "0b5c1cfc-0c68-44f8-936d-1a06f146fd63"
      },
      "source": [
        "plt.figure(figsize=(12,10))\n",
        "plt.title('Average User Rating Count', fontsize = 30)\n",
        "sns.countplot(data = df, x ='Average User Rating', palette = 'inferno')\n",
        "plt.show()"
      ],
      "execution_count": null,
      "outputs": [
        {
          "output_type": "display_data",
          "data": {
            "image/png": "[encoded data removed]",
            "text/plain": [
              "<Figure size 864x720 with 1 Axes>"
            ]
          },
          "metadata": {
            "tags": [],
            "needs_background": "light"
          }
        }
      ]
    },
    {
      "cell_type": "code",
      "metadata": {
        "id": "_V2MUQwqPRc3",
        "colab": {
          "base_uri": "https://localhost:8080/",
          "height": 722
        },
        "outputId": "ea2ce013-29b0-4635-a8ca-c1a64263a3b2"
      },
      "source": [
        "plt.figure(figsize=(12,10))\n",
        "plt.title('Average User Rating Distribution Plot', fontsize = 30)\n",
        "sns.distplot(df['Average User Rating'])\n",
        "plt.show()"
      ],
      "execution_count": null,
      "outputs": [
        {
          "output_type": "stream",
          "text": [
            "/usr/local/lib/python3.7/dist-packages/seaborn/distributions.py:2557: FutureWarning:\n",
            "\n",
            "`distplot` is a deprecated function and will be removed in a future version. Please adapt your code to use either `displot` (a figure-level function with similar flexibility) or `histplot` (an axes-level function for histograms).\n",
            "\n"
          ],
          "name": "stderr"
        },
        {
          "output_type": "display_data",
          "data": {
            "image/png": "[encoded data removed]",
            "text/plain": [
              "<Figure size 864x720 with 1 Axes>"
            ]
          },
          "metadata": {
            "tags": [],
            "needs_background": "light"
          }
        }
      ]
    },
    {
      "cell_type": "code",
      "metadata": {
        "id": "DHxQqK8iQmg_",
        "colab": {
          "base_uri": "https://localhost:8080/",
          "height": 954
        },
        "outputId": "290bac9f-52a8-42b8-d9a0-1e3a26a69faa"
      },
      "source": [
        "plt.figure(figsize=(20,15))\n",
        "plt.title('Top 10 Most Mentioned Primary Genres', fontsize = 30)\n",
        "df['Primary Genre'].value_counts()[:10].plot(kind = 'bar')\n",
        "plt.show()"
      ],
      "execution_count": null,
      "outputs": [
        {
          "output_type": "display_data",
          "data": {
            "image/png": "[encoded data removed]",
            "text/plain": [
              "<Figure size 1440x1080 with 1 Axes>"
            ]
          },
          "metadata": {
            "tags": [],
            "needs_background": "light"
          }
        }
      ]
    },
    {
      "cell_type": "code",
      "metadata": {
        "id": "zHzUN8bdkODM",
        "colab": {
          "base_uri": "https://localhost:8080/",
          "height": 634
        },
        "outputId": "e91fa7ed-f78e-4769-bd7f-4cb0e9c3b67b"
      },
      "source": [
        "plt.figure(figsize=(12,10))\n",
        "plt.title('Age Rating Count', fontsize = 30)\n",
        "sns.countplot(data = df, x ='Age Rating', palette = 'inferno')\n",
        "plt.show()"
      ],
      "execution_count": null,
      "outputs": [
        {
          "output_type": "display_data",
          "data": {
            "image/png": "[encoded data removed]",
            "text/plain": [
              "<Figure size 864x720 with 1 Axes>"
            ]
          },
          "metadata": {
            "tags": [],
            "needs_background": "light"
          }
        }
      ]
    },
    {
      "cell_type": "code",
      "metadata": {
        "id": "Lu7xUPS7Zg98",
        "colab": {
          "base_uri": "https://localhost:8080/",
          "height": 634
        },
        "outputId": "09c478af-217d-48a5-df72-1015eeebf933"
      },
      "source": [
        "plt.figure(figsize=(20,10))\n",
        "plt.title('Timeline of Size of the Apps', fontsize = 30)\n",
        "data = df.groupby(['Original Release Date']).Size.sum().reset_index()\n",
        "sns.lineplot(data = data, x = 'Original Release Date', y = 'Size')\n",
        "plt.show()"
      ],
      "execution_count": null,
      "outputs": [
        {
          "output_type": "display_data",
          "data": {
            "image/png": "[encoded data removed]",
            "text/plain": [
              "<Figure size 1440x720 with 1 Axes>"
            ]
          },
          "metadata": {
            "tags": [],
            "needs_background": "light"
          }
        }
      ]
    },
    {
      "cell_type": "markdown",
      "metadata": {
        "id": "rvch84DalZRd"
      },
      "source": [
        "# One Hot Encoding"
      ]
    },
    {
      "cell_type": "code",
      "metadata": {
        "id": "cXu0AUvOldNk",
        "colab": {
          "base_uri": "https://localhost:8080/"
        },
        "outputId": "a46d374d-1779-46a2-c651-c801dce1ca57"
      },
      "source": [
        "from sklearn.preprocessing import OneHotEncoder \n",
        "from sklearn.compose import ColumnTransformer \n",
        "sample = df[['Average User Rating','User Rating Count']].dropna().copy()\n",
        "print(sample.head())"
      ],
      "execution_count": null,
      "outputs": [
        {
          "output_type": "stream",
          "text": [
            "   Average User Rating  User Rating Count\n",
            "0                  4.0             3553.0\n",
            "1                  3.5              284.0\n",
            "2                  3.0             8376.0\n",
            "3                  3.5           190394.0\n",
            "4                  3.5               28.0\n"
          ],
          "name": "stdout"
        }
      ]
    },
    {
      "cell_type": "code",
      "metadata": {
        "id": "cew8n2hOoVKp",
        "colab": {
          "base_uri": "https://localhost:8080/",
          "height": 419
        },
        "outputId": "c0c3ef8f-c523-4db4-f0b9-7fdda1019c8c"
      },
      "source": [
        "enc = OneHotEncoder(handle_unknown='ignore')\n",
        "enc_df = pd.DataFrame(enc.fit_transform(sample[['Average User Rating']]).toarray())\n",
        "enc_df"
      ],
      "execution_count": null,
      "outputs": [
        {
          "output_type": "execute_result",
          "data": {
            "text/html": [
              "<div>\n",
              "<style scoped>\n",
              "    .dataframe tbody tr th:only-of-type {\n",
              "        vertical-align: middle;\n",
              "    }\n",
              "\n",
              "    .dataframe tbody tr th {\n",
              "        vertical-align: top;\n",
              "    }\n",
              "\n",
              "    .dataframe thead th {\n",
              "        text-align: right;\n",
              "    }\n",
              "</style>\n",
              "<table border=\"1\" class=\"dataframe\">\n",
              "  <thead>\n",
              "    <tr style=\"text-align: right;\">\n",
              "      <th></th>\n",
              "      <th>0</th>\n",
              "      <th>1</th>\n",
              "      <th>2</th>\n",
              "      <th>3</th>\n",
              "      <th>4</th>\n",
              "      <th>5</th>\n",
              "      <th>6</th>\n",
              "      <th>7</th>\n",
              "      <th>8</th>\n",
              "    </tr>\n",
              "  </thead>\n",
              "  <tbody>\n",
              "    <tr>\n",
              "      <th>0</th>\n",
              "      <td>0.0</td>\n",
              "      <td>0.0</td>\n",
              "      <td>0.0</td>\n",
              "      <td>0.0</td>\n",
              "      <td>0.0</td>\n",
              "      <td>0.0</td>\n",
              "      <td>1.0</td>\n",
              "      <td>0.0</td>\n",
              "      <td>0.0</td>\n",
              "    </tr>\n",
              "    <tr>\n",
              "      <th>1</th>\n",
              "      <td>0.0</td>\n",
              "      <td>0.0</td>\n",
              "      <td>0.0</td>\n",
              "      <td>0.0</td>\n",
              "      <td>0.0</td>\n",
              "      <td>1.0</td>\n",
              "      <td>0.0</td>\n",
              "      <td>0.0</td>\n",
              "      <td>0.0</td>\n",
              "    </tr>\n",
              "    <tr>\n",
              "      <th>2</th>\n",
              "      <td>0.0</td>\n",
              "      <td>0.0</td>\n",
              "      <td>0.0</td>\n",
              "      <td>0.0</td>\n",
              "      <td>1.0</td>\n",
              "      <td>0.0</td>\n",
              "      <td>0.0</td>\n",
              "      <td>0.0</td>\n",
              "      <td>0.0</td>\n",
              "    </tr>\n",
              "    <tr>\n",
              "      <th>3</th>\n",
              "      <td>0.0</td>\n",
              "      <td>0.0</td>\n",
              "      <td>0.0</td>\n",
              "      <td>0.0</td>\n",
              "      <td>0.0</td>\n",
              "      <td>1.0</td>\n",
              "      <td>0.0</td>\n",
              "      <td>0.0</td>\n",
              "      <td>0.0</td>\n",
              "    </tr>\n",
              "    <tr>\n",
              "      <th>4</th>\n",
              "      <td>0.0</td>\n",
              "      <td>0.0</td>\n",
              "      <td>0.0</td>\n",
              "      <td>0.0</td>\n",
              "      <td>0.0</td>\n",
              "      <td>1.0</td>\n",
              "      <td>0.0</td>\n",
              "      <td>0.0</td>\n",
              "      <td>0.0</td>\n",
              "    </tr>\n",
              "    <tr>\n",
              "      <th>...</th>\n",
              "      <td>...</td>\n",
              "      <td>...</td>\n",
              "      <td>...</td>\n",
              "      <td>...</td>\n",
              "      <td>...</td>\n",
              "      <td>...</td>\n",
              "      <td>...</td>\n",
              "      <td>...</td>\n",
              "      <td>...</td>\n",
              "    </tr>\n",
              "    <tr>\n",
              "      <th>7556</th>\n",
              "      <td>0.0</td>\n",
              "      <td>0.0</td>\n",
              "      <td>0.0</td>\n",
              "      <td>0.0</td>\n",
              "      <td>1.0</td>\n",
              "      <td>0.0</td>\n",
              "      <td>0.0</td>\n",
              "      <td>0.0</td>\n",
              "      <td>0.0</td>\n",
              "    </tr>\n",
              "    <tr>\n",
              "      <th>7557</th>\n",
              "      <td>0.0</td>\n",
              "      <td>0.0</td>\n",
              "      <td>0.0</td>\n",
              "      <td>0.0</td>\n",
              "      <td>0.0</td>\n",
              "      <td>0.0</td>\n",
              "      <td>0.0</td>\n",
              "      <td>0.0</td>\n",
              "      <td>1.0</td>\n",
              "    </tr>\n",
              "    <tr>\n",
              "      <th>7558</th>\n",
              "      <td>0.0</td>\n",
              "      <td>0.0</td>\n",
              "      <td>0.0</td>\n",
              "      <td>0.0</td>\n",
              "      <td>0.0</td>\n",
              "      <td>0.0</td>\n",
              "      <td>0.0</td>\n",
              "      <td>0.0</td>\n",
              "      <td>1.0</td>\n",
              "    </tr>\n",
              "    <tr>\n",
              "      <th>7559</th>\n",
              "      <td>0.0</td>\n",
              "      <td>0.0</td>\n",
              "      <td>0.0</td>\n",
              "      <td>0.0</td>\n",
              "      <td>0.0</td>\n",
              "      <td>0.0</td>\n",
              "      <td>0.0</td>\n",
              "      <td>0.0</td>\n",
              "      <td>1.0</td>\n",
              "    </tr>\n",
              "    <tr>\n",
              "      <th>7560</th>\n",
              "      <td>0.0</td>\n",
              "      <td>0.0</td>\n",
              "      <td>0.0</td>\n",
              "      <td>0.0</td>\n",
              "      <td>0.0</td>\n",
              "      <td>0.0</td>\n",
              "      <td>0.0</td>\n",
              "      <td>0.0</td>\n",
              "      <td>1.0</td>\n",
              "    </tr>\n",
              "  </tbody>\n",
              "</table>\n",
              "<p>7561 rows × 9 columns</p>\n",
              "</div>"
            ],
            "text/plain": [
              "        0    1    2    3    4    5    6    7    8\n",
              "0     0.0  0.0  0.0  0.0  0.0  0.0  1.0  0.0  0.0\n",
              "1     0.0  0.0  0.0  0.0  0.0  1.0  0.0  0.0  0.0\n",
              "2     0.0  0.0  0.0  0.0  1.0  0.0  0.0  0.0  0.0\n",
              "3     0.0  0.0  0.0  0.0  0.0  1.0  0.0  0.0  0.0\n",
              "4     0.0  0.0  0.0  0.0  0.0  1.0  0.0  0.0  0.0\n",
              "...   ...  ...  ...  ...  ...  ...  ...  ...  ...\n",
              "7556  0.0  0.0  0.0  0.0  1.0  0.0  0.0  0.0  0.0\n",
              "7557  0.0  0.0  0.0  0.0  0.0  0.0  0.0  0.0  1.0\n",
              "7558  0.0  0.0  0.0  0.0  0.0  0.0  0.0  0.0  1.0\n",
              "7559  0.0  0.0  0.0  0.0  0.0  0.0  0.0  0.0  1.0\n",
              "7560  0.0  0.0  0.0  0.0  0.0  0.0  0.0  0.0  1.0\n",
              "\n",
              "[7561 rows x 9 columns]"
            ]
          },
          "metadata": {
            "tags": []
          },
          "execution_count": 13
        }
      ]
    },
    {
      "cell_type": "markdown",
      "metadata": {
        "id": "kMuzYxUCbvpu"
      },
      "source": [
        "# Pre-processing"
      ]
    },
    {
      "cell_type": "code",
      "metadata": {
        "id": "rkzgKYkjbyJg",
        "colab": {
          "base_uri": "https://localhost:8080/"
        },
        "outputId": "2dfcef70-2e33-47a6-d3cb-98ba0df5d25c"
      },
      "source": [
        "df.info()"
      ],
      "execution_count": null,
      "outputs": [
        {
          "output_type": "stream",
          "text": [
            "<class 'pandas.core.frame.DataFrame'>\n",
            "RangeIndex: 17007 entries, 0 to 17006\n",
            "Data columns (total 18 columns):\n",
            " #   Column                        Non-Null Count  Dtype         \n",
            "---  ------                        --------------  -----         \n",
            " 0   URL                           17007 non-null  object        \n",
            " 1   ID                            17007 non-null  int64         \n",
            " 2   Name                          17007 non-null  object        \n",
            " 3   Subtitle                      5261 non-null   object        \n",
            " 4   Icon URL                      17007 non-null  object        \n",
            " 5   Average User Rating           7561 non-null   float64       \n",
            " 6   User Rating Count             7561 non-null   float64       \n",
            " 7   Price                         16983 non-null  float64       \n",
            " 8   In-app Purchases              7683 non-null   object        \n",
            " 9   Description                   17007 non-null  object        \n",
            " 10  Developer                     17007 non-null  object        \n",
            " 11  Age Rating                    17007 non-null  object        \n",
            " 12  Languages                     16947 non-null  object        \n",
            " 13  Size                          17006 non-null  float64       \n",
            " 14  Primary Genre                 17007 non-null  object        \n",
            " 15  Genres                        17007 non-null  object        \n",
            " 16  Original Release Date         17007 non-null  datetime64[ns]\n",
            " 17  Current Version Release Date  17007 non-null  datetime64[ns]\n",
            "dtypes: datetime64[ns](2), float64(4), int64(1), object(11)\n",
            "memory usage: 2.3+ MB\n"
          ],
          "name": "stdout"
        }
      ]
    },
    {
      "cell_type": "code",
      "metadata": {
        "id": "aALl9sbob7gi",
        "colab": {
          "base_uri": "https://localhost:8080/"
        },
        "outputId": "7f36e855-a3e0-4506-e9f5-46d817fbdd19"
      },
      "source": [
        "# Dropping unwanted columns\n",
        "df = df.drop(['URL', 'Icon URL', 'Subtitle', 'In-app Purchases'], axis = 1)\n",
        "df.columns"
      ],
      "execution_count": null,
      "outputs": [
        {
          "output_type": "execute_result",
          "data": {
            "text/plain": [
              "Index(['ID', 'Name', 'Average User Rating', 'User Rating Count', 'Price',\n",
              "       'Description', 'Developer', 'Age Rating', 'Languages', 'Size',\n",
              "       'Primary Genre', 'Genres', 'Original Release Date',\n",
              "       'Current Version Release Date'],\n",
              "      dtype='object')"
            ]
          },
          "metadata": {
            "tags": []
          },
          "execution_count": 15
        }
      ]
    },
    {
      "cell_type": "code",
      "metadata": {
        "id": "htDKlctVdXI3"
      },
      "source": [
        "# Dropping null values from Size and Languages columns\n",
        "df = df.dropna(subset=['Size', 'Languages'])"
      ],
      "execution_count": null,
      "outputs": []
    },
    {
      "cell_type": "code",
      "metadata": {
        "id": "WhScWRdnefVd",
        "colab": {
          "base_uri": "https://localhost:8080/"
        },
        "outputId": "ef168d3f-1bb3-43cf-e57e-abcf44ba36c4"
      },
      "source": [
        "df.info()"
      ],
      "execution_count": null,
      "outputs": [
        {
          "output_type": "stream",
          "text": [
            "<class 'pandas.core.frame.DataFrame'>\n",
            "Int64Index: 16946 entries, 0 to 17006\n",
            "Data columns (total 14 columns):\n",
            " #   Column                        Non-Null Count  Dtype         \n",
            "---  ------                        --------------  -----         \n",
            " 0   ID                            16946 non-null  int64         \n",
            " 1   Name                          16946 non-null  object        \n",
            " 2   Average User Rating           7537 non-null   float64       \n",
            " 3   User Rating Count             7537 non-null   float64       \n",
            " 4   Price                         16923 non-null  float64       \n",
            " 5   Description                   16946 non-null  object        \n",
            " 6   Developer                     16946 non-null  object        \n",
            " 7   Age Rating                    16946 non-null  object        \n",
            " 8   Languages                     16946 non-null  object        \n",
            " 9   Size                          16946 non-null  float64       \n",
            " 10  Primary Genre                 16946 non-null  object        \n",
            " 11  Genres                        16946 non-null  object        \n",
            " 12  Original Release Date         16946 non-null  datetime64[ns]\n",
            " 13  Current Version Release Date  16946 non-null  datetime64[ns]\n",
            "dtypes: datetime64[ns](2), float64(4), int64(1), object(7)\n",
            "memory usage: 1.9+ MB\n"
          ],
          "name": "stdout"
        }
      ]
    },
    {
      "cell_type": "code",
      "metadata": {
        "id": "R-77n3Qahn6M"
      },
      "source": [
        "# Imputing missing values in Average User Rating, User Rating Count and Price columns\n",
        "df['Average User Rating'].interpolate(method='linear', inplace=True, limit_direction=\"both\")\n",
        "df['User Rating Count'].interpolate(method='linear', inplace=True, limit_direction=\"both\")\n",
        "df['Price'].interpolate(method='linear', inplace=True, limit_direction=\"both\")"
      ],
      "execution_count": null,
      "outputs": []
    },
    {
      "cell_type": "code",
      "metadata": {
        "id": "IA355J8fiBhG",
        "colab": {
          "base_uri": "https://localhost:8080/"
        },
        "outputId": "a06a7278-6a1c-4481-df0d-182a550e68bb"
      },
      "source": [
        "df.info()"
      ],
      "execution_count": null,
      "outputs": [
        {
          "output_type": "stream",
          "text": [
            "<class 'pandas.core.frame.DataFrame'>\n",
            "Int64Index: 16946 entries, 0 to 17006\n",
            "Data columns (total 14 columns):\n",
            " #   Column                        Non-Null Count  Dtype         \n",
            "---  ------                        --------------  -----         \n",
            " 0   ID                            16946 non-null  int64         \n",
            " 1   Name                          16946 non-null  object        \n",
            " 2   Average User Rating           16946 non-null  float64       \n",
            " 3   User Rating Count             16946 non-null  float64       \n",
            " 4   Price                         16946 non-null  float64       \n",
            " 5   Description                   16946 non-null  object        \n",
            " 6   Developer                     16946 non-null  object        \n",
            " 7   Age Rating                    16946 non-null  object        \n",
            " 8   Languages                     16946 non-null  object        \n",
            " 9   Size                          16946 non-null  float64       \n",
            " 10  Primary Genre                 16946 non-null  object        \n",
            " 11  Genres                        16946 non-null  object        \n",
            " 12  Original Release Date         16946 non-null  datetime64[ns]\n",
            " 13  Current Version Release Date  16946 non-null  datetime64[ns]\n",
            "dtypes: datetime64[ns](2), float64(4), int64(1), object(7)\n",
            "memory usage: 1.9+ MB\n"
          ],
          "name": "stdout"
        }
      ]
    },
    {
      "cell_type": "markdown",
      "metadata": {
        "id": "u2wdWWHaw7Dh"
      },
      "source": [
        "# Building Model with PCA"
      ]
    },
    {
      "cell_type": "code",
      "metadata": {
        "id": "s9jwYdZUxAac",
        "colab": {
          "base_uri": "https://localhost:8080/"
        },
        "outputId": "c7d8fcd3-3f93-46e3-bfcc-ab287c30778c"
      },
      "source": [
        "# Dropping unwanted columns\n",
        "sample_2 = df.drop(columns= ['Original Release Date','Current Version Release Date', 'ID', 'Name', 'Description', 'Languages', 'Genres'])\n",
        "sample_2.info()"
      ],
      "execution_count": null,
      "outputs": [
        {
          "output_type": "stream",
          "text": [
            "<class 'pandas.core.frame.DataFrame'>\n",
            "Int64Index: 16946 entries, 0 to 17006\n",
            "Data columns (total 7 columns):\n",
            " #   Column               Non-Null Count  Dtype  \n",
            "---  ------               --------------  -----  \n",
            " 0   Average User Rating  16946 non-null  float64\n",
            " 1   User Rating Count    16946 non-null  float64\n",
            " 2   Price                16946 non-null  float64\n",
            " 3   Developer            16946 non-null  object \n",
            " 4   Age Rating           16946 non-null  object \n",
            " 5   Size                 16946 non-null  float64\n",
            " 6   Primary Genre        16946 non-null  object \n",
            "dtypes: float64(4), object(3)\n",
            "memory usage: 1.0+ MB\n"
          ],
          "name": "stdout"
        }
      ]
    },
    {
      "cell_type": "code",
      "metadata": {
        "id": "tjHZW8QGxe6G",
        "colab": {
          "base_uri": "https://localhost:8080/"
        },
        "outputId": "9a74c6a6-6bc0-4c8e-8342-b3c5552445f6"
      },
      "source": [
        "sample_2.columns"
      ],
      "execution_count": null,
      "outputs": [
        {
          "output_type": "execute_result",
          "data": {
            "text/plain": [
              "Index(['Average User Rating', 'User Rating Count', 'Price', 'Developer',\n",
              "       'Age Rating', 'Size', 'Primary Genre'],\n",
              "      dtype='object')"
            ]
          },
          "metadata": {
            "tags": []
          },
          "execution_count": 21
        }
      ]
    },
    {
      "cell_type": "code",
      "metadata": {
        "id": "yOgwE3TgyFez"
      },
      "source": [
        "# Label Encoding non-numeric columns\n",
        "from sklearn.preprocessing import LabelEncoder\n",
        "trans_col = ['Developer', 'Age Rating', 'Primary Genre']\n",
        "le = LabelEncoder()\n",
        "for i in trans_col:\n",
        "    sample_2[i] = le.fit_transform(sample_2[i])"
      ],
      "execution_count": null,
      "outputs": []
    },
    {
      "cell_type": "code",
      "metadata": {
        "id": "b7u8HHT1z8Pr",
        "colab": {
          "base_uri": "https://localhost:8080/"
        },
        "outputId": "b1dee994-46fa-4133-f8db-15e7f7ab3452"
      },
      "source": [
        "sample_2.info()"
      ],
      "execution_count": null,
      "outputs": [
        {
          "output_type": "stream",
          "text": [
            "<class 'pandas.core.frame.DataFrame'>\n",
            "Int64Index: 16946 entries, 0 to 17006\n",
            "Data columns (total 7 columns):\n",
            " #   Column               Non-Null Count  Dtype  \n",
            "---  ------               --------------  -----  \n",
            " 0   Average User Rating  16946 non-null  float64\n",
            " 1   User Rating Count    16946 non-null  float64\n",
            " 2   Price                16946 non-null  float64\n",
            " 3   Developer            16946 non-null  int64  \n",
            " 4   Age Rating           16946 non-null  int64  \n",
            " 5   Size                 16946 non-null  float64\n",
            " 6   Primary Genre        16946 non-null  int64  \n",
            "dtypes: float64(4), int64(3)\n",
            "memory usage: 1.0 MB\n"
          ],
          "name": "stdout"
        }
      ]
    },
    {
      "cell_type": "code",
      "metadata": {
        "id": "xFUJdPQ00RA9"
      },
      "source": [
        "# Standardizing featrues\n",
        "from sklearn.preprocessing import StandardScaler\n",
        "x = sample_2.drop(['Average User Rating'],1).values\n",
        "x = StandardScaler().fit_transform(x)"
      ],
      "execution_count": null,
      "outputs": []
    },
    {
      "cell_type": "code",
      "metadata": {
        "id": "3DAnsXXO1VfV",
        "colab": {
          "base_uri": "https://localhost:8080/"
        },
        "outputId": "51e1eda5-393c-407c-9315-ee23ec67c86e"
      },
      "source": [
        "np.mean(x),np.std(x)"
      ],
      "execution_count": null,
      "outputs": [
        {
          "output_type": "execute_result",
          "data": {
            "text/plain": [
              "(3.214619560659802e-17, 1.0)"
            ]
          },
          "metadata": {
            "tags": []
          },
          "execution_count": 25
        }
      ]
    },
    {
      "cell_type": "code",
      "metadata": {
        "id": "Zhb8OpYG1dY_",
        "colab": {
          "base_uri": "https://localhost:8080/",
          "height": 204
        },
        "outputId": "f2f2208d-e3f9-4f80-f64a-50820b3aa88d"
      },
      "source": [
        "# Creating DataFrame of Standardized featrues\n",
        "feat_cols = ['feature'+str(i) for i in range(x.shape[1])]\n",
        "normalised_feat = pd.DataFrame(x,columns=feat_cols)\n",
        "normalised_feat.tail()"
      ],
      "execution_count": null,
      "outputs": [
        {
          "output_type": "execute_result",
          "data": {
            "text/html": [
              "<div>\n",
              "<style scoped>\n",
              "    .dataframe tbody tr th:only-of-type {\n",
              "        vertical-align: middle;\n",
              "    }\n",
              "\n",
              "    .dataframe tbody tr th {\n",
              "        vertical-align: top;\n",
              "    }\n",
              "\n",
              "    .dataframe thead th {\n",
              "        text-align: right;\n",
              "    }\n",
              "</style>\n",
              "<table border=\"1\" class=\"dataframe\">\n",
              "  <thead>\n",
              "    <tr style=\"text-align: right;\">\n",
              "      <th></th>\n",
              "      <th>feature0</th>\n",
              "      <th>feature1</th>\n",
              "      <th>feature2</th>\n",
              "      <th>feature3</th>\n",
              "      <th>feature4</th>\n",
              "      <th>feature5</th>\n",
              "    </tr>\n",
              "  </thead>\n",
              "  <tbody>\n",
              "    <tr>\n",
              "      <th>16941</th>\n",
              "      <td>-0.090415</td>\n",
              "      <td>-0.103633</td>\n",
              "      <td>1.480422</td>\n",
              "      <td>0.167227</td>\n",
              "      <td>-0.249962</td>\n",
              "      <td>-0.040329</td>\n",
              "    </tr>\n",
              "    <tr>\n",
              "      <th>16942</th>\n",
              "      <td>-0.090415</td>\n",
              "      <td>-0.103633</td>\n",
              "      <td>0.988315</td>\n",
              "      <td>0.167227</td>\n",
              "      <td>-0.026441</td>\n",
              "      <td>-0.040329</td>\n",
              "    </tr>\n",
              "    <tr>\n",
              "      <th>16943</th>\n",
              "      <td>-0.090415</td>\n",
              "      <td>-0.103633</td>\n",
              "      <td>1.270092</td>\n",
              "      <td>0.167227</td>\n",
              "      <td>-0.454059</td>\n",
              "      <td>-0.040329</td>\n",
              "    </tr>\n",
              "    <tr>\n",
              "      <th>16944</th>\n",
              "      <td>-0.090415</td>\n",
              "      <td>-0.103633</td>\n",
              "      <td>1.067389</td>\n",
              "      <td>0.167227</td>\n",
              "      <td>0.397623</td>\n",
              "      <td>-0.040329</td>\n",
              "    </tr>\n",
              "    <tr>\n",
              "      <th>16945</th>\n",
              "      <td>-0.090415</td>\n",
              "      <td>-0.103633</td>\n",
              "      <td>1.649810</td>\n",
              "      <td>0.167227</td>\n",
              "      <td>-0.455311</td>\n",
              "      <td>-0.040329</td>\n",
              "    </tr>\n",
              "  </tbody>\n",
              "</table>\n",
              "</div>"
            ],
            "text/plain": [
              "       feature0  feature1  feature2  feature3  feature4  feature5\n",
              "16941 -0.090415 -0.103633  1.480422  0.167227 -0.249962 -0.040329\n",
              "16942 -0.090415 -0.103633  0.988315  0.167227 -0.026441 -0.040329\n",
              "16943 -0.090415 -0.103633  1.270092  0.167227 -0.454059 -0.040329\n",
              "16944 -0.090415 -0.103633  1.067389  0.167227  0.397623 -0.040329\n",
              "16945 -0.090415 -0.103633  1.649810  0.167227 -0.455311 -0.040329"
            ]
          },
          "metadata": {
            "tags": []
          },
          "execution_count": 26
        }
      ]
    },
    {
      "cell_type": "code",
      "metadata": {
        "id": "d0uFv6xYWltb",
        "colab": {
          "base_uri": "https://localhost:8080/",
          "height": 204
        },
        "outputId": "0a8baee9-4229-490f-86db-8a099a155bde"
      },
      "source": [
        "# Perfroming PCA\n",
        "from sklearn.decomposition import PCA\n",
        "\n",
        "pca = PCA(n_components=6)\n",
        "principalComponents = pca.fit_transform(x)\n",
        "principalDf = pd.DataFrame(data = principalComponents, columns = ['PC1', 'PC2', 'PC3', 'PC4', 'PC5', 'PC6'])\n",
        "finalDf = pd.concat([principalDf, sample_2['Average User Rating']], axis = 1)\n",
        "finalDf.head()"
      ],
      "execution_count": null,
      "outputs": [
        {
          "output_type": "execute_result",
          "data": {
            "text/html": [
              "<div>\n",
              "<style scoped>\n",
              "    .dataframe tbody tr th:only-of-type {\n",
              "        vertical-align: middle;\n",
              "    }\n",
              "\n",
              "    .dataframe tbody tr th {\n",
              "        vertical-align: top;\n",
              "    }\n",
              "\n",
              "    .dataframe thead th {\n",
              "        text-align: right;\n",
              "    }\n",
              "</style>\n",
              "<table border=\"1\" class=\"dataframe\">\n",
              "  <thead>\n",
              "    <tr style=\"text-align: right;\">\n",
              "      <th></th>\n",
              "      <th>PC1</th>\n",
              "      <th>PC2</th>\n",
              "      <th>PC3</th>\n",
              "      <th>PC4</th>\n",
              "      <th>PC5</th>\n",
              "      <th>PC6</th>\n",
              "      <th>Average User Rating</th>\n",
              "    </tr>\n",
              "  </thead>\n",
              "  <tbody>\n",
              "    <tr>\n",
              "      <th>0</th>\n",
              "      <td>-0.464494</td>\n",
              "      <td>-0.008037</td>\n",
              "      <td>0.067977</td>\n",
              "      <td>0.022164</td>\n",
              "      <td>-0.260856</td>\n",
              "      <td>0.310053</td>\n",
              "      <td>4.0</td>\n",
              "    </tr>\n",
              "    <tr>\n",
              "      <th>1</th>\n",
              "      <td>-0.495424</td>\n",
              "      <td>0.113007</td>\n",
              "      <td>-0.072162</td>\n",
              "      <td>-0.039385</td>\n",
              "      <td>0.041438</td>\n",
              "      <td>0.257989</td>\n",
              "      <td>3.5</td>\n",
              "    </tr>\n",
              "    <tr>\n",
              "      <th>2</th>\n",
              "      <td>-0.545760</td>\n",
              "      <td>0.717150</td>\n",
              "      <td>-0.116114</td>\n",
              "      <td>0.199396</td>\n",
              "      <td>1.152907</td>\n",
              "      <td>0.242679</td>\n",
              "      <td>3.0</td>\n",
              "    </tr>\n",
              "    <tr>\n",
              "      <th>3</th>\n",
              "      <td>0.246960</td>\n",
              "      <td>-0.482784</td>\n",
              "      <td>4.500625</td>\n",
              "      <td>4.050697</td>\n",
              "      <td>0.953509</td>\n",
              "      <td>1.284259</td>\n",
              "      <td>3.5</td>\n",
              "    </tr>\n",
              "    <tr>\n",
              "      <th>4</th>\n",
              "      <td>-0.390611</td>\n",
              "      <td>-0.315022</td>\n",
              "      <td>0.087966</td>\n",
              "      <td>-0.092750</td>\n",
              "      <td>-0.661205</td>\n",
              "      <td>0.239367</td>\n",
              "      <td>3.5</td>\n",
              "    </tr>\n",
              "  </tbody>\n",
              "</table>\n",
              "</div>"
            ],
            "text/plain": [
              "        PC1       PC2       PC3  ...       PC5       PC6  Average User Rating\n",
              "0 -0.464494 -0.008037  0.067977  ... -0.260856  0.310053                  4.0\n",
              "1 -0.495424  0.113007 -0.072162  ...  0.041438  0.257989                  3.5\n",
              "2 -0.545760  0.717150 -0.116114  ...  1.152907  0.242679                  3.0\n",
              "3  0.246960 -0.482784  4.500625  ...  0.953509  1.284259                  3.5\n",
              "4 -0.390611 -0.315022  0.087966  ... -0.661205  0.239367                  3.5\n",
              "\n",
              "[5 rows x 7 columns]"
            ]
          },
          "metadata": {
            "tags": []
          },
          "execution_count": 27
        }
      ]
    },
    {
      "cell_type": "code",
      "metadata": {
        "id": "vLsc8s8xYJqm",
        "colab": {
          "base_uri": "https://localhost:8080/",
          "height": 621
        },
        "outputId": "9e122ed7-0a1f-4672-f68d-bbb92157dde8"
      },
      "source": [
        "per_var = np.round(pca.explained_variance_ratio_* 100, decimals =2)\n",
        "labels = ['PC'+str(x) for x in range(1, len(per_var)+1)]\n",
        "plt.figure(figsize=(15,10))\n",
        "plt.bar(x = range(1,len(per_var)+1),height = per_var, tick_label = labels)\n",
        "plt.ylabel('Percentage of Explained Variance')\n",
        "plt.xlabel('Principal Components')\n",
        "plt.title('Scree plot')\n",
        "plt.show()"
      ],
      "execution_count": null,
      "outputs": [
        {
          "output_type": "display_data",
          "data": {
            "image/png": "[encoded data removed]",
            "text/plain": [
              "<Figure size 1080x720 with 1 Axes>"
            ]
          },
          "metadata": {
            "tags": [],
            "needs_background": "light"
          }
        }
      ]
    },
    {
      "cell_type": "code",
      "metadata": {
        "colab": {
          "base_uri": "https://localhost:8080/"
        },
        "id": "dANVGl0oBZU6",
        "outputId": "19b69aab-74a9-4bd0-ee7c-405fa436acf7"
      },
      "source": [
        "pca.explained_variance_ratio_"
      ],
      "execution_count": null,
      "outputs": [
        {
          "output_type": "execute_result",
          "data": {
            "text/plain": [
              "array([0.19064087, 0.18010333, 0.16902168, 0.16587619, 0.15575417,\n",
              "       0.13860375])"
            ]
          },
          "metadata": {
            "tags": []
          },
          "execution_count": 29
        }
      ]
    },
    {
      "cell_type": "code",
      "metadata": {
        "colab": {
          "base_uri": "https://localhost:8080/"
        },
        "id": "1Ad1c32l-Bhz",
        "outputId": "af42b135-22eb-4db7-c55f-a6664c0e9fe7"
      },
      "source": [
        "finalDf['Average User Rating'].unique()"
      ],
      "execution_count": null,
      "outputs": [
        {
          "output_type": "execute_result",
          "data": {
            "text/plain": [
              "array([4.        , 3.5       , 3.        ,        nan, 2.5       ,\n",
              "       2.        , 2.66666667, 3.33333333, 3.83333333, 3.66666667,\n",
              "       4.5       , 1.5       , 5.        , 3.75      , 3.25      ,\n",
              "       2.75      , 4.25      , 1.        , 3.16666667, 3.16666667,\n",
              "       3.33333333, 3.83333333, 4.16666667, 4.33333333, 2.83333333,\n",
              "       2.25      , 4.75      , 4.375     , 4.125     , 2.875     ,\n",
              "       2.625     , 4.66666667, 4.83333333, 3.625     , 3.875     ,\n",
              "       3.125     , 2.375     , 3.66666667, 2.66666667, 2.33333333,\n",
              "       4.625     , 4.875     , 2.16666667, 3.9       , 3.8       ,\n",
              "       3.7       , 3.6       , 3.2       , 3.4       , 3.375     ,\n",
              "       4.40909091, 4.31818182, 4.22727273, 4.13636364, 4.04545455,\n",
              "       3.95454545, 3.86363636, 3.77272727, 3.68181818, 3.59090909,\n",
              "       4.57142857, 4.14285714, 3.71428571, 3.28571429, 2.85714286,\n",
              "       2.42857143, 4.1       , 4.2       , 4.3       , 4.4       ,\n",
              "       4.07142857, 4.21428571, 4.28571429, 4.35714286, 4.42857143,\n",
              "       2.125     , 2.16666667, 2.83333333, 3.05555556, 3.11111111,\n",
              "       3.22222222, 3.27777778, 3.38888889, 3.44444444, 2.21428571,\n",
              "       2.42857143, 2.64285714, 3.07142857, 4.8125    , 4.4375    ,\n",
              "       4.0625    , 3.6875    , 2.6       , 2.7       , 2.8       ,\n",
              "       2.9       , 2.35714286, 2.71428571, 3.42857143, 3.78571429,\n",
              "       4.14285714, 4.3125    , 3.9375    , 3.5625    , 3.1875    ,\n",
              "       2.8125    , 2.4375    , 2.0625    , 1.875     , 1.6875    ,\n",
              "       3.3       , 3.8125    , 4.6       , 4.7       , 4.8       ,\n",
              "       4.9       , 4.58333333, 4.91666667, 4.08333333, 2.41666667,\n",
              "       3.41666667, 3.08333333, 3.1       , 4.1875    , 3.58333333,\n",
              "       3.91666667, 2.4       , 3.14285714, 2.57142857, 2.28571429,\n",
              "       3.21428571, 3.42857143, 3.64285714, 3.85714286, 3.92857143,\n",
              "       4.55555556, 4.61111111, 4.72222222, 4.77777778, 4.88888889,\n",
              "       4.94444444, 4.53571429, 4.60714286, 4.64285714, 4.67857143,\n",
              "       4.71428571, 4.78571429, 4.82142857, 4.85714286, 4.89285714,\n",
              "       4.92857143, 4.96428571, 4.9375    , 4.6875    , 4.5625    ,\n",
              "       4.55      , 4.65      , 4.85      , 4.95      , 4.53846154,\n",
              "       4.57692308, 4.61538462, 4.65384615, 4.69230769, 4.73076923,\n",
              "       4.76923077, 4.80769231, 4.84615385, 4.88461538, 4.92307692,\n",
              "       4.96153846, 4.41666667, 3.4375    , 1.6       , 2.2       ,\n",
              "       4.35714286, 3.92857143, 3.55      , 3.65      , 3.85      ,\n",
              "       3.95      , 2.72222222, 2.94444444, 3.61111111, 4.05555556,\n",
              "       4.27777778, 1.77272727, 2.04545455, 2.31818182, 2.59090909,\n",
              "       2.86363636, 3.13636364, 3.40909091, 3.95454545, 4.22727273,\n",
              "       2.3       , 1.9       , 4.16666667, 3.57142857, 4.05      ,\n",
              "       4.15      , 4.35      , 4.45      , 4.66666667, 2.65384615,\n",
              "       2.80769231, 2.96153846, 3.11538462, 3.26923077, 3.42307692,\n",
              "       3.57692308, 3.73076923, 3.88461538, 4.03846154, 4.19230769,\n",
              "       4.34615385, 4.64285714, 3.45      , 3.15      , 4.44444444,\n",
              "       4.38888889, 4.22222222, 4.11111111, 3.94444444, 3.72222222,\n",
              "       3.58823529, 3.67647059, 3.76470588, 3.85294118, 3.94117647,\n",
              "       4.02941176, 4.11764706, 4.20588235, 4.29411765, 4.38235294,\n",
              "       4.47058824, 4.55882353, 4.64705882, 4.73529412, 4.82352941,\n",
              "       4.91176471, 4.46153846, 4.38461538, 4.30769231, 4.23076923,\n",
              "       4.15384615, 4.07692308, 4.26923077, 4.15384615, 3.92307692,\n",
              "       3.80769231, 3.69230769, 3.57692308, 3.46153846, 3.34615385,\n",
              "       3.23076923, 3.57142857, 4.04166667, 4.20833333, 4.29166667,\n",
              "       4.45833333, 2.33333333, 2.3       , 4.84615385, 2.72727273,\n",
              "       2.95454545, 3.18181818, 3.63636364, 3.86363636, 4.09090909,\n",
              "       4.54545455, 4.77272727, 1.85714286, 2.57142857, 2.92857143,\n",
              "       4.04545455, 4.18181818, 4.27272727, 4.36363636, 4.45454545,\n",
              "       1.83333333, 1.75      , 3.07692308, 3.15384615, 3.30769231,\n",
              "       3.38461538, 3.53846154, 3.61538462, 3.76923077, 3.84615385,\n",
              "       3.92307692, 4.95454545, 4.90909091, 4.86363636, 4.81818182,\n",
              "       4.72727273, 4.68181818, 4.63636364, 4.59090909, 4.08333333,\n",
              "       4.39285714, 4.17857143, 3.96428571, 3.53571429, 3.32142857,\n",
              "       3.10714286, 4.46875   , 4.40625   , 4.34375   , 4.28125   ,\n",
              "       4.21875   , 4.15625   , 4.09375   , 4.03125   , 4.54545455,\n",
              "       4.95454545, 4.95833333, 4.79166667, 4.70833333, 4.54166667,\n",
              "       1.9375    , 1.91666667, 1.66666667, 1.33333333, 4.02631579,\n",
              "       4.05263158, 4.07894737, 4.10526316, 4.13157895, 4.15789474,\n",
              "       4.18421053, 4.21052632, 4.23684211, 4.26315789, 4.28947368,\n",
              "       4.31578947, 4.34210526, 4.36842105, 4.39473684, 4.42105263,\n",
              "       4.44736842, 4.47368421, 3.07142857, 3.35714286, 3.72727273,\n",
              "       3.45454545, 3.31818182, 3.04545455, 2.90909091, 2.77272727,\n",
              "       2.63636364, 2.91666667, 4.45454545, 1.91666667, 1.61111111,\n",
              "       1.72222222, 1.83333333, 1.94444444, 2.05555556, 2.27777778,\n",
              "       2.38888889, 3.34615385, 2.22222222, 2.44444444, 2.88888889,\n",
              "       3.55555556, 3.77777778, 4.97222222, 4.86111111, 4.80555556,\n",
              "       4.69444444, 4.63888889, 4.52777778, 2.6       , 3.95833333,\n",
              "       3.79166667, 3.70833333, 3.54166667, 3.1       , 3.03846154,\n",
              "       2.92307692, 2.69230769, 2.57692308, 2.46153846, 2.34615385,\n",
              "       2.23076923, 2.11538462, 2.9375    , 2.6875    , 2.5625    ,\n",
              "       4.51923077, 4.55769231, 4.59615385, 4.63461538, 4.67307692,\n",
              "       4.71153846, 4.78846154, 4.82692308, 4.86538462, 4.90384615,\n",
              "       4.94230769, 4.98076923, 3.91666667, 4.42307692, 3.84615385,\n",
              "       3.65384615, 3.07692308, 2.88461538, 2.69230769, 2.78571429,\n",
              "       4.53125   , 4.59375   , 4.65625   , 4.71875   , 4.78125   ,\n",
              "       4.84375   , 4.90625   , 4.96875   , 3.88888889])"
            ]
          },
          "metadata": {
            "tags": []
          },
          "execution_count": 30
        }
      ]
    },
    {
      "cell_type": "code",
      "metadata": {
        "id": "zvGN7uA3-SAF"
      },
      "source": [
        "# Since target variable is continuous, Regression model is suitable for this data\n",
        "from sklearn.model_selection import train_test_split\n",
        "X = finalDf.loc[:, finalDf.columns != 'Average User Rating'].dropna()\n",
        "y = finalDf['Average User Rating'].dropna()\n",
        "X_train, X_test, y_train, y_test = train_test_split(X, y, test_size = 0.25)"
      ],
      "execution_count": null,
      "outputs": []
    },
    {
      "cell_type": "code",
      "metadata": {
        "colab": {
          "base_uri": "https://localhost:8080/"
        },
        "id": "-2enMqNs-h2e",
        "outputId": "614922fa-d733-4fcf-d219-9bce7da8b9bf"
      },
      "source": [
        "# MLR\n",
        "from sklearn.linear_model import LinearRegression\n",
        "from sklearn.metrics import mean_squared_error, r2_score\n",
        "\n",
        "model = LinearRegression()\n",
        "model.fit(X_train, y_train)\n",
        "y_pred = model.predict(X_test)\n",
        "print(\"RMSE: \", np.sqrt(mean_squared_error(y_test, y_pred)))\n",
        "print(\"\\nR2 Score: \", r2_score(y_test, y_pred))"
      ],
      "execution_count": null,
      "outputs": [
        {
          "output_type": "stream",
          "text": [
            "RMSE:  0.6798532988328442\n",
            "\n",
            "R2 Score:  -0.005103191851597133\n"
          ],
          "name": "stdout"
        }
      ]
    },
    {
      "cell_type": "code",
      "metadata": {
        "colab": {
          "base_uri": "https://localhost:8080/"
        },
        "id": "znGVst-_Dwp2",
        "outputId": "6c44a0e9-3816-4503-e7f9-27cabcbf07fe"
      },
      "source": [
        "# Since r2_score is negative Linear Regression is not suitable for the data\n",
        "# Moving on to next regression model\n",
        "# SVR\n",
        "from sklearn.svm import SVR\n",
        "\n",
        "model2 = SVR()\n",
        "model2.fit(X_train, y_train)\n",
        "y_pred = model2.predict(X_test)\n",
        "print(\"RMSE: \", np.sqrt(mean_squared_error(y_test, y_pred)))\n",
        "print(\"\\nR2 Score: \", r2_score(y_test, y_pred))"
      ],
      "execution_count": null,
      "outputs": [
        {
          "output_type": "stream",
          "text": [
            "RMSE:  0.6820020841842406\n",
            "\n",
            "R2 Score:  -0.011466812175816576\n"
          ],
          "name": "stdout"
        }
      ]
    },
    {
      "cell_type": "code",
      "metadata": {
        "colab": {
          "base_uri": "https://localhost:8080/"
        },
        "id": "MIjJc-IUFFCX",
        "outputId": "75359bee-e9d6-426d-eb41-28392072a9f0"
      },
      "source": [
        "# Decision Tree Regressor\n",
        "from sklearn.tree import DecisionTreeRegressor\n",
        "\n",
        "model3 = DecisionTreeRegressor()\n",
        "model3.fit(X_train, y_train)\n",
        "y_pred = model3.predict(X_test)\n",
        "print(\"RMSE: \", np.sqrt(mean_squared_error(y_test, y_pred)))\n",
        "print(\"\\nR2 Score: \", r2_score(y_test, y_pred))"
      ],
      "execution_count": null,
      "outputs": [
        {
          "output_type": "stream",
          "text": [
            "RMSE:  0.9112787297976278\n",
            "\n",
            "R2 Score:  -0.8058542714022188\n"
          ],
          "name": "stdout"
        }
      ]
    },
    {
      "cell_type": "code",
      "metadata": {
        "colab": {
          "base_uri": "https://localhost:8080/"
        },
        "id": "ob6ccl-yHu0Q",
        "outputId": "e1a1d6c4-f02c-48d8-c139-55267a32fbf2"
      },
      "source": [
        "# Random Forest Regressor\n",
        "from sklearn.ensemble import RandomForestRegressor\n",
        "\n",
        "model4 = RandomForestRegressor()\n",
        "model4.fit(X_train, y_train)\n",
        "y_pred = model4.predict(X_test)\n",
        "print(\"RMSE: \", np.sqrt(mean_squared_error(y_test, y_pred)))\n",
        "print(\"\\nR2 Score: \", r2_score(y_test, y_pred))"
      ],
      "execution_count": null,
      "outputs": [
        {
          "output_type": "stream",
          "text": [
            "RMSE:  0.6902100141117277\n",
            "\n",
            "R2 Score:  -0.03595942503506122\n"
          ],
          "name": "stdout"
        }
      ]
    },
    {
      "cell_type": "code",
      "metadata": {
        "colab": {
          "base_uri": "https://localhost:8080/"
        },
        "id": "LEtKm1crIYql",
        "outputId": "12f8e13d-4c7e-42a8-a35a-41ca8a0ae51b"
      },
      "source": [
        "# Lasso Regressor\n",
        "from sklearn.linear_model import Lasso\n",
        "\n",
        "model5 = Lasso()\n",
        "model5.fit(X_train, y_train)\n",
        "y_pred = model5.predict(X_test)\n",
        "print(\"RMSE: \", np.sqrt(mean_squared_error(y_test, y_pred)))\n",
        "print(\"\\nR2 Score: \", r2_score(y_test, y_pred))"
      ],
      "execution_count": null,
      "outputs": [
        {
          "output_type": "stream",
          "text": [
            "RMSE:  0.6781290023204457\n",
            "\n",
            "R2 Score:  -1.1216493615240353e-05\n"
          ],
          "name": "stdout"
        }
      ]
    },
    {
      "cell_type": "code",
      "metadata": {
        "colab": {
          "base_uri": "https://localhost:8080/"
        },
        "id": "l6flI3N7IkIj",
        "outputId": "c850bea8-1e03-4bb8-ab1c-552e75882fbf"
      },
      "source": [
        "# Ridge Regressor\n",
        "from sklearn.linear_model import Ridge\n",
        "\n",
        "model6 = Ridge()\n",
        "model6.fit(X_train, y_train)\n",
        "y_pred = model6.predict(X_test)\n",
        "print(\"RMSE: \", np.sqrt(mean_squared_error(y_test, y_pred)))\n",
        "print(\"\\nR2 Score: \", r2_score(y_test, y_pred))"
      ],
      "execution_count": null,
      "outputs": [
        {
          "output_type": "stream",
          "text": [
            "RMSE:  0.6798515595190647\n",
            "\n",
            "R2 Score:  -0.005098049013875672\n"
          ],
          "name": "stdout"
        }
      ]
    },
    {
      "cell_type": "markdown",
      "metadata": {
        "id": "fQyJ1-U78JMQ"
      },
      "source": [
        "# Building Model without PCA"
      ]
    },
    {
      "cell_type": "code",
      "metadata": {
        "colab": {
          "base_uri": "https://localhost:8080/",
          "height": 204
        },
        "id": "FRRnlp3cJE3S",
        "outputId": "074851bb-a69d-4cf3-ecbb-869cc6eaf373"
      },
      "source": [
        "# Creating a sample of sample_2 to build the model without PCA\n",
        "sample_3 = sample_2.copy(deep = False)\n",
        "sample_3.head()"
      ],
      "execution_count": null,
      "outputs": [
        {
          "output_type": "execute_result",
          "data": {
            "text/html": [
              "<div>\n",
              "<style scoped>\n",
              "    .dataframe tbody tr th:only-of-type {\n",
              "        vertical-align: middle;\n",
              "    }\n",
              "\n",
              "    .dataframe tbody tr th {\n",
              "        vertical-align: top;\n",
              "    }\n",
              "\n",
              "    .dataframe thead th {\n",
              "        text-align: right;\n",
              "    }\n",
              "</style>\n",
              "<table border=\"1\" class=\"dataframe\">\n",
              "  <thead>\n",
              "    <tr style=\"text-align: right;\">\n",
              "      <th></th>\n",
              "      <th>Average User Rating</th>\n",
              "      <th>User Rating Count</th>\n",
              "      <th>Price</th>\n",
              "      <th>Developer</th>\n",
              "      <th>Age Rating</th>\n",
              "      <th>Size</th>\n",
              "      <th>Primary Genre</th>\n",
              "    </tr>\n",
              "  </thead>\n",
              "  <tbody>\n",
              "    <tr>\n",
              "      <th>0</th>\n",
              "      <td>4.0</td>\n",
              "      <td>3553.0</td>\n",
              "      <td>2.99</td>\n",
              "      <td>4782</td>\n",
              "      <td>2</td>\n",
              "      <td>15853568.0</td>\n",
              "      <td>6</td>\n",
              "    </tr>\n",
              "    <tr>\n",
              "      <th>1</th>\n",
              "      <td>3.5</td>\n",
              "      <td>284.0</td>\n",
              "      <td>1.99</td>\n",
              "      <td>3976</td>\n",
              "      <td>2</td>\n",
              "      <td>12328960.0</td>\n",
              "      <td>6</td>\n",
              "    </tr>\n",
              "    <tr>\n",
              "      <th>2</th>\n",
              "      <td>3.0</td>\n",
              "      <td>8376.0</td>\n",
              "      <td>0.00</td>\n",
              "      <td>903</td>\n",
              "      <td>2</td>\n",
              "      <td>674816.0</td>\n",
              "      <td>6</td>\n",
              "    </tr>\n",
              "    <tr>\n",
              "      <th>3</th>\n",
              "      <td>3.5</td>\n",
              "      <td>190394.0</td>\n",
              "      <td>0.00</td>\n",
              "      <td>4782</td>\n",
              "      <td>2</td>\n",
              "      <td>21552128.0</td>\n",
              "      <td>6</td>\n",
              "    </tr>\n",
              "    <tr>\n",
              "      <th>4</th>\n",
              "      <td>3.5</td>\n",
              "      <td>28.0</td>\n",
              "      <td>2.99</td>\n",
              "      <td>6043</td>\n",
              "      <td>2</td>\n",
              "      <td>34689024.0</td>\n",
              "      <td>6</td>\n",
              "    </tr>\n",
              "  </tbody>\n",
              "</table>\n",
              "</div>"
            ],
            "text/plain": [
              "   Average User Rating  User Rating Count  ...        Size  Primary Genre\n",
              "0                  4.0             3553.0  ...  15853568.0              6\n",
              "1                  3.5              284.0  ...  12328960.0              6\n",
              "2                  3.0             8376.0  ...    674816.0              6\n",
              "3                  3.5           190394.0  ...  21552128.0              6\n",
              "4                  3.5               28.0  ...  34689024.0              6\n",
              "\n",
              "[5 rows x 7 columns]"
            ]
          },
          "metadata": {
            "tags": []
          },
          "execution_count": 82
        }
      ]
    },
    {
      "cell_type": "code",
      "metadata": {
        "id": "ggauc8ctJRdt",
        "colab": {
          "base_uri": "https://localhost:8080/"
        },
        "outputId": "48fe2aa1-8b18-460e-a4aa-1cd57cca6085"
      },
      "source": [
        "sample_3.info()"
      ],
      "execution_count": null,
      "outputs": [
        {
          "output_type": "stream",
          "text": [
            "<class 'pandas.core.frame.DataFrame'>\n",
            "Int64Index: 16946 entries, 0 to 17006\n",
            "Data columns (total 7 columns):\n",
            " #   Column               Non-Null Count  Dtype  \n",
            "---  ------               --------------  -----  \n",
            " 0   Average User Rating  16946 non-null  float64\n",
            " 1   User Rating Count    16946 non-null  float64\n",
            " 2   Price                16946 non-null  float64\n",
            " 3   Developer            16946 non-null  int64  \n",
            " 4   Age Rating           16946 non-null  int64  \n",
            " 5   Size                 16946 non-null  float64\n",
            " 6   Primary Genre        16946 non-null  int64  \n",
            "dtypes: float64(4), int64(3)\n",
            "memory usage: 1.7 MB\n"
          ],
          "name": "stdout"
        }
      ]
    },
    {
      "cell_type": "code",
      "metadata": {
        "id": "AIVSrL9pIm1x",
        "colab": {
          "base_uri": "https://localhost:8080/",
          "height": 266
        },
        "outputId": "4db31d88-909c-493d-ba29-173a573d3b23"
      },
      "source": [
        "sample_3.corr()"
      ],
      "execution_count": null,
      "outputs": [
        {
          "output_type": "execute_result",
          "data": {
            "text/html": [
              "<div>\n",
              "<style scoped>\n",
              "    .dataframe tbody tr th:only-of-type {\n",
              "        vertical-align: middle;\n",
              "    }\n",
              "\n",
              "    .dataframe tbody tr th {\n",
              "        vertical-align: top;\n",
              "    }\n",
              "\n",
              "    .dataframe thead th {\n",
              "        text-align: right;\n",
              "    }\n",
              "</style>\n",
              "<table border=\"1\" class=\"dataframe\">\n",
              "  <thead>\n",
              "    <tr style=\"text-align: right;\">\n",
              "      <th></th>\n",
              "      <th>Average User Rating</th>\n",
              "      <th>User Rating Count</th>\n",
              "      <th>Price</th>\n",
              "      <th>Developer</th>\n",
              "      <th>Age Rating</th>\n",
              "      <th>Size</th>\n",
              "      <th>Primary Genre</th>\n",
              "    </tr>\n",
              "  </thead>\n",
              "  <tbody>\n",
              "    <tr>\n",
              "      <th>Average User Rating</th>\n",
              "      <td>1.000000</td>\n",
              "      <td>0.041767</td>\n",
              "      <td>-0.044476</td>\n",
              "      <td>-0.004175</td>\n",
              "      <td>0.002525</td>\n",
              "      <td>0.041630</td>\n",
              "      <td>-0.008984</td>\n",
              "    </tr>\n",
              "    <tr>\n",
              "      <th>User Rating Count</th>\n",
              "      <td>0.041767</td>\n",
              "      <td>1.000000</td>\n",
              "      <td>-0.005187</td>\n",
              "      <td>0.011357</td>\n",
              "      <td>0.011532</td>\n",
              "      <td>0.032474</td>\n",
              "      <td>-0.002690</td>\n",
              "    </tr>\n",
              "    <tr>\n",
              "      <th>Price</th>\n",
              "      <td>-0.044476</td>\n",
              "      <td>-0.005187</td>\n",
              "      <td>1.000000</td>\n",
              "      <td>-0.068767</td>\n",
              "      <td>0.039170</td>\n",
              "      <td>0.033099</td>\n",
              "      <td>-0.005713</td>\n",
              "    </tr>\n",
              "    <tr>\n",
              "      <th>Developer</th>\n",
              "      <td>-0.004175</td>\n",
              "      <td>0.011357</td>\n",
              "      <td>-0.068767</td>\n",
              "      <td>1.000000</td>\n",
              "      <td>-0.011993</td>\n",
              "      <td>-0.010162</td>\n",
              "      <td>0.001582</td>\n",
              "    </tr>\n",
              "    <tr>\n",
              "      <th>Age Rating</th>\n",
              "      <td>0.002525</td>\n",
              "      <td>0.011532</td>\n",
              "      <td>0.039170</td>\n",
              "      <td>-0.011993</td>\n",
              "      <td>1.000000</td>\n",
              "      <td>-0.141942</td>\n",
              "      <td>-0.020237</td>\n",
              "    </tr>\n",
              "    <tr>\n",
              "      <th>Size</th>\n",
              "      <td>0.041630</td>\n",
              "      <td>0.032474</td>\n",
              "      <td>0.033099</td>\n",
              "      <td>-0.010162</td>\n",
              "      <td>-0.141942</td>\n",
              "      <td>1.000000</td>\n",
              "      <td>-0.021838</td>\n",
              "    </tr>\n",
              "    <tr>\n",
              "      <th>Primary Genre</th>\n",
              "      <td>-0.008984</td>\n",
              "      <td>-0.002690</td>\n",
              "      <td>-0.005713</td>\n",
              "      <td>0.001582</td>\n",
              "      <td>-0.020237</td>\n",
              "      <td>-0.021838</td>\n",
              "      <td>1.000000</td>\n",
              "    </tr>\n",
              "  </tbody>\n",
              "</table>\n",
              "</div>"
            ],
            "text/plain": [
              "                     Average User Rating  ...  Primary Genre\n",
              "Average User Rating             1.000000  ...      -0.008984\n",
              "User Rating Count               0.041767  ...      -0.002690\n",
              "Price                          -0.044476  ...      -0.005713\n",
              "Developer                      -0.004175  ...       0.001582\n",
              "Age Rating                      0.002525  ...      -0.020237\n",
              "Size                            0.041630  ...      -0.021838\n",
              "Primary Genre                  -0.008984  ...       1.000000\n",
              "\n",
              "[7 rows x 7 columns]"
            ]
          },
          "metadata": {
            "tags": []
          },
          "execution_count": 95
        }
      ]
    },
    {
      "cell_type": "code",
      "metadata": {
        "id": "MrUzZI7IJiRS"
      },
      "source": [
        "# Standardizing the features\n",
        "X2 = sample_3[['User Rating Count','Price','Developer','Age Rating','Size','Primary Genre']].values\n",
        "X2 = StandardScaler().fit_transform(X2)"
      ],
      "execution_count": null,
      "outputs": []
    },
    {
      "cell_type": "code",
      "metadata": {
        "colab": {
          "base_uri": "https://localhost:8080/",
          "height": 204
        },
        "id": "PNvRZBI4-kPA",
        "outputId": "0b07b1c7-d263-4e6c-e86e-5f5195d46a34"
      },
      "source": [
        "# Creating DataFrame of standardized features\n",
        "feat_cols = ['feature'+str(i) for i in range(X2.shape[1])]\n",
        "std_feat = pd.DataFrame(X2,columns=feat_cols)\n",
        "std_feat.head()"
      ],
      "execution_count": null,
      "outputs": [
        {
          "output_type": "execute_result",
          "data": {
            "text/html": [
              "<div>\n",
              "<style scoped>\n",
              "    .dataframe tbody tr th:only-of-type {\n",
              "        vertical-align: middle;\n",
              "    }\n",
              "\n",
              "    .dataframe tbody tr th {\n",
              "        vertical-align: top;\n",
              "    }\n",
              "\n",
              "    .dataframe thead th {\n",
              "        text-align: right;\n",
              "    }\n",
              "</style>\n",
              "<table border=\"1\" class=\"dataframe\">\n",
              "  <thead>\n",
              "    <tr style=\"text-align: right;\">\n",
              "      <th></th>\n",
              "      <th>feature0</th>\n",
              "      <th>feature1</th>\n",
              "      <th>feature2</th>\n",
              "      <th>feature3</th>\n",
              "      <th>feature4</th>\n",
              "      <th>feature5</th>\n",
              "    </tr>\n",
              "  </thead>\n",
              "  <tbody>\n",
              "    <tr>\n",
              "      <th>0</th>\n",
              "      <td>0.027067</td>\n",
              "      <td>0.277620</td>\n",
              "      <td>0.193558</td>\n",
              "      <td>0.167227</td>\n",
              "      <td>-0.490152</td>\n",
              "      <td>-0.040329</td>\n",
              "    </tr>\n",
              "    <tr>\n",
              "      <th>1</th>\n",
              "      <td>-0.082037</td>\n",
              "      <td>0.150110</td>\n",
              "      <td>-0.129964</td>\n",
              "      <td>0.167227</td>\n",
              "      <td>-0.507449</td>\n",
              "      <td>-0.040329</td>\n",
              "    </tr>\n",
              "    <tr>\n",
              "      <th>2</th>\n",
              "      <td>0.188037</td>\n",
              "      <td>-0.103633</td>\n",
              "      <td>-1.363442</td>\n",
              "      <td>0.167227</td>\n",
              "      <td>-0.564644</td>\n",
              "      <td>-0.040329</td>\n",
              "    </tr>\n",
              "    <tr>\n",
              "      <th>3</th>\n",
              "      <td>6.262981</td>\n",
              "      <td>-0.103633</td>\n",
              "      <td>0.193558</td>\n",
              "      <td>0.167227</td>\n",
              "      <td>-0.462185</td>\n",
              "      <td>-0.040329</td>\n",
              "    </tr>\n",
              "    <tr>\n",
              "      <th>4</th>\n",
              "      <td>-0.090582</td>\n",
              "      <td>0.277620</td>\n",
              "      <td>0.699714</td>\n",
              "      <td>0.167227</td>\n",
              "      <td>-0.397714</td>\n",
              "      <td>-0.040329</td>\n",
              "    </tr>\n",
              "  </tbody>\n",
              "</table>\n",
              "</div>"
            ],
            "text/plain": [
              "   feature0  feature1  feature2  feature3  feature4  feature5\n",
              "0  0.027067  0.277620  0.193558  0.167227 -0.490152 -0.040329\n",
              "1 -0.082037  0.150110 -0.129964  0.167227 -0.507449 -0.040329\n",
              "2  0.188037 -0.103633 -1.363442  0.167227 -0.564644 -0.040329\n",
              "3  6.262981 -0.103633  0.193558  0.167227 -0.462185 -0.040329\n",
              "4 -0.090582  0.277620  0.699714  0.167227 -0.397714 -0.040329"
            ]
          },
          "metadata": {
            "tags": []
          },
          "execution_count": 87
        }
      ]
    },
    {
      "cell_type": "code",
      "metadata": {
        "colab": {
          "base_uri": "https://localhost:8080/"
        },
        "id": "FS2bx60BDUUo",
        "outputId": "3d479329-1b60-4647-e19b-58a6cb9bc286"
      },
      "source": [
        "std_feat.info()"
      ],
      "execution_count": null,
      "outputs": [
        {
          "output_type": "stream",
          "text": [
            "<class 'pandas.core.frame.DataFrame'>\n",
            "RangeIndex: 16946 entries, 0 to 16945\n",
            "Data columns (total 6 columns):\n",
            " #   Column    Non-Null Count  Dtype  \n",
            "---  ------    --------------  -----  \n",
            " 0   feature0  16946 non-null  float64\n",
            " 1   feature1  16946 non-null  float64\n",
            " 2   feature2  16946 non-null  float64\n",
            " 3   feature3  16946 non-null  float64\n",
            " 4   feature4  16946 non-null  float64\n",
            " 5   feature5  16946 non-null  float64\n",
            "dtypes: float64(6)\n",
            "memory usage: 794.5 KB\n"
          ],
          "name": "stdout"
        }
      ]
    },
    {
      "cell_type": "code",
      "metadata": {
        "id": "2pFbbIDMKJhq"
      },
      "source": [
        "# Train-Test split with test size of 25%\n",
        "X2 = std_feat\n",
        "y2 = sample_3['Average User Rating'].dropna()\n",
        "X_train2, X_test2, y_train2, y_test2 = train_test_split(X, y, test_size = 0.25)"
      ],
      "execution_count": null,
      "outputs": []
    },
    {
      "cell_type": "code",
      "metadata": {
        "colab": {
          "base_uri": "https://localhost:8080/"
        },
        "id": "FikjsgpU_nwW",
        "outputId": "fdfbf7bc-0fe0-4eb5-e652-7465f2890f87"
      },
      "source": [
        "# Linear Regression Model\n",
        "model1_2 = LinearRegression()\n",
        "model1_2.fit(X_train2, y_train2)\n",
        "y_pred2 = model1_2.predict(X_test2)\n",
        "print(\"RMSE: \", np.sqrt(mean_squared_error(y_test2, y_pred)))\n",
        "print(\"\\nR2 Score: \", r2_score(y_test2, y_pred2))"
      ],
      "execution_count": null,
      "outputs": [
        {
          "output_type": "stream",
          "text": [
            "RMSE:  0.6709150152231632\n",
            "\n",
            "R2 Score:  0.004395498622895344\n"
          ],
          "name": "stdout"
        }
      ]
    },
    {
      "cell_type": "code",
      "metadata": {
        "colab": {
          "base_uri": "https://localhost:8080/"
        },
        "id": "0CS6r932AFUN",
        "outputId": "899b34e3-2399-4496-b58a-9c893961b972"
      },
      "source": [
        "# Support Vector Regressor\n",
        "model2_2 = SVR()\n",
        "model2_2.fit(X_train2, y_train2)\n",
        "y_pred2 = model2_2.predict(X_test2)\n",
        "print(\"RMSE: \", np.sqrt(mean_squared_error(y_test2, y_pred2)))\n",
        "print(\"\\nR2 Score: \", r2_score(y_test2, y_pred2))"
      ],
      "execution_count": null,
      "outputs": [
        {
          "output_type": "stream",
          "text": [
            "RMSE:  0.6783721002449191\n",
            "\n",
            "R2 Score:  -0.017859383396028106\n"
          ],
          "name": "stdout"
        }
      ]
    },
    {
      "cell_type": "code",
      "metadata": {
        "colab": {
          "base_uri": "https://localhost:8080/"
        },
        "id": "6nzQeFrxAKM-",
        "outputId": "5693e8a2-25df-4a53-8f30-459acca93fa9"
      },
      "source": [
        "# Decision Tree Regressor\n",
        "model3_2 = DecisionTreeRegressor()\n",
        "model3_2.fit(X_train2, y_train2)\n",
        "y_pred2 = model3_2.predict(X_test2)\n",
        "print(\"RMSE: \", np.sqrt(mean_squared_error(y_test2, y_pred2)))\n",
        "print(\"\\nR2 Score: \", r2_score(y_test2, y_pred2))"
      ],
      "execution_count": null,
      "outputs": [
        {
          "output_type": "stream",
          "text": [
            "RMSE:  0.9306355237714459\n",
            "\n",
            "R2 Score:  -0.9156275781917571\n"
          ],
          "name": "stdout"
        }
      ]
    },
    {
      "cell_type": "code",
      "metadata": {
        "colab": {
          "base_uri": "https://localhost:8080/"
        },
        "id": "Rte097YTAPSj",
        "outputId": "e63a0804-f7b7-40b8-de6d-90548c65a8d6"
      },
      "source": [
        "# Random Forest Regressor\n",
        "model4_2 = RandomForestRegressor()\n",
        "model4_2.fit(X_train2, y_train2)\n",
        "y_pred2 = model4_2.predict(X_test2)\n",
        "print(\"RMSE: \", np.sqrt(mean_squared_error(y_test2, y_pred2)))\n",
        "print(\"\\nR2 Score: \", r2_score(y_test2, y_pred2))"
      ],
      "execution_count": null,
      "outputs": [
        {
          "output_type": "stream",
          "text": [
            "RMSE:  0.686558426779331\n",
            "\n",
            "R2 Score:  -0.04257386122161311\n"
          ],
          "name": "stdout"
        }
      ]
    },
    {
      "cell_type": "code",
      "metadata": {
        "colab": {
          "base_uri": "https://localhost:8080/"
        },
        "id": "X_13e835ATJT",
        "outputId": "d7df7ce0-e3fb-44db-aa53-62d9041b00c9"
      },
      "source": [
        "# Ridge Regressor\n",
        "model5_2 = Ridge()\n",
        "model5_2.fit(X_train2, y_train2)\n",
        "y_pred2 = model5_2.predict(X_test2)\n",
        "print(\"RMSE: \", np.sqrt(mean_squared_error(y_test2, y_pred2)))\n",
        "print(\"\\nR2 Score: \", r2_score(y_test2, y_pred2))"
      ],
      "execution_count": null,
      "outputs": [
        {
          "output_type": "stream",
          "text": [
            "RMSE:  0.6709150176910171\n",
            "\n",
            "R2 Score:  0.004395491298550325\n"
          ],
          "name": "stdout"
        }
      ]
    },
    {
      "cell_type": "code",
      "metadata": {
        "colab": {
          "base_uri": "https://localhost:8080/"
        },
        "id": "0iCWqPAAAue3",
        "outputId": "1b137fa6-f3ac-47c3-b08b-14b59e1eb438"
      },
      "source": [
        "# Lasso Regressor\n",
        "model6_2 = Lasso()\n",
        "model6_2.fit(X_train2, y_train2)\n",
        "y_pred2 = model6_2.predict(X_test2)\n",
        "print(\"RMSE: \", np.sqrt(mean_squared_error(y_test2, y_pred2)))\n",
        "print(\"\\nR2 Score: \", r2_score(y_test2, y_pred2))"
      ],
      "execution_count": null,
      "outputs": [
        {
          "output_type": "stream",
          "text": [
            "RMSE:  0.6724006443533463\n",
            "\n",
            "R2 Score:  -1.8582518726217856e-05\n"
          ],
          "name": "stdout"
        }
      ]
    },
    {
      "cell_type": "markdown",
      "metadata": {
        "id": "YQ38WUqWC_Ba"
      },
      "source": [
        "From the above models, Linear and Ridge Regressions have a good fit over the data."
      ]
    }
  ]
}